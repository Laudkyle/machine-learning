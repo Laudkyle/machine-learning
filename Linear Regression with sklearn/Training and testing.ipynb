{
 "cells": [
  {
   "cell_type": "code",
   "execution_count": 1,
   "id": "a1dbc55c",
   "metadata": {},
   "outputs": [],
   "source": [
    "import numpy as np\n",
    "from sklearn.model_selection import train_test_split"
   ]
  },
  {
   "cell_type": "code",
   "execution_count": 2,
   "id": "2de365eb",
   "metadata": {},
   "outputs": [],
   "source": [
    "a = np.arange(1,101)\n",
    "b = np.arange(501,601)"
   ]
  },
  {
   "cell_type": "code",
   "execution_count": 3,
   "id": "4f2cc28a",
   "metadata": {},
   "outputs": [
    {
     "data": {
      "text/plain": [
       "array([  1,   2,   3,   4,   5,   6,   7,   8,   9,  10,  11,  12,  13,\n",
       "        14,  15,  16,  17,  18,  19,  20,  21,  22,  23,  24,  25,  26,\n",
       "        27,  28,  29,  30,  31,  32,  33,  34,  35,  36,  37,  38,  39,\n",
       "        40,  41,  42,  43,  44,  45,  46,  47,  48,  49,  50,  51,  52,\n",
       "        53,  54,  55,  56,  57,  58,  59,  60,  61,  62,  63,  64,  65,\n",
       "        66,  67,  68,  69,  70,  71,  72,  73,  74,  75,  76,  77,  78,\n",
       "        79,  80,  81,  82,  83,  84,  85,  86,  87,  88,  89,  90,  91,\n",
       "        92,  93,  94,  95,  96,  97,  98,  99, 100])"
      ]
     },
     "execution_count": 3,
     "metadata": {},
     "output_type": "execute_result"
    }
   ],
   "source": [
    "a"
   ]
  },
  {
   "cell_type": "markdown",
   "id": "999e4bed",
   "metadata": {},
   "source": [
    "# Creating some data to split"
   ]
  },
  {
   "cell_type": "code",
   "execution_count": 4,
   "id": "4ae498b7",
   "metadata": {},
   "outputs": [
    {
     "data": {
      "text/plain": [
       "array([501, 502, 503, 504, 505, 506, 507, 508, 509, 510, 511, 512, 513,\n",
       "       514, 515, 516, 517, 518, 519, 520, 521, 522, 523, 524, 525, 526,\n",
       "       527, 528, 529, 530, 531, 532, 533, 534, 535, 536, 537, 538, 539,\n",
       "       540, 541, 542, 543, 544, 545, 546, 547, 548, 549, 550, 551, 552,\n",
       "       553, 554, 555, 556, 557, 558, 559, 560, 561, 562, 563, 564, 565,\n",
       "       566, 567, 568, 569, 570, 571, 572, 573, 574, 575, 576, 577, 578,\n",
       "       579, 580, 581, 582, 583, 584, 585, 586, 587, 588, 589, 590, 591,\n",
       "       592, 593, 594, 595, 596, 597, 598, 599, 600])"
      ]
     },
     "execution_count": 4,
     "metadata": {},
     "output_type": "execute_result"
    }
   ],
   "source": [
    "b"
   ]
  },
  {
   "cell_type": "markdown",
   "id": "ad4e0409",
   "metadata": {},
   "source": [
    "#  Spliting the data"
   ]
  },
  {
   "cell_type": "code",
   "execution_count": 5,
   "id": "b4e32822",
   "metadata": {},
   "outputs": [
    {
     "data": {
      "text/plain": [
       "[array([ 8, 38, 75, 99, 32, 49, 22, 71,  4, 24, 16, 25, 76, 27,  2, 80, 31,\n",
       "        47, 81, 51, 21, 68, 63, 53, 89, 97, 84, 23, 78, 70, 93, 95, 36, 90,\n",
       "        44, 43, 85, 83, 59, 11, 55, 52, 56, 61, 98, 30, 66, 37, 26, 74, 13,\n",
       "        64, 79, 39, 34, 82, 17, 18, 46, 88,  5, 33, 62, 86, 48, 29,  1, 12,\n",
       "         6,  3, 14, 73,  9, 50, 69]),\n",
       " array([ 92,  20,  87,  10,  96,   7,  58,  15,  41,  77,  35,  91,  65,\n",
       "         28,  42,  45,  67,  54,  57,  60,  72, 100,  94,  40,  19])]"
      ]
     },
     "execution_count": 5,
     "metadata": {},
     "output_type": "execute_result"
    }
   ],
   "source": [
    "train_test_split(a)"
   ]
  },
  {
   "cell_type": "code",
   "execution_count": 6,
   "id": "31a94141",
   "metadata": {},
   "outputs": [],
   "source": [
    "a_train, a_test = train_test_split(a)"
   ]
  },
  {
   "cell_type": "code",
   "execution_count": 7,
   "id": "1892cc54",
   "metadata": {},
   "outputs": [
    {
     "data": {
      "text/plain": [
       "((25,), (75,))"
      ]
     },
     "execution_count": 7,
     "metadata": {},
     "output_type": "execute_result"
    }
   ],
   "source": [
    "a_test.shape, a_train.shape"
   ]
  },
  {
   "cell_type": "markdown",
   "id": "021ffc76",
   "metadata": {},
   "source": [
    "#  Changing the default test size"
   ]
  },
  {
   "cell_type": "code",
   "execution_count": 8,
   "id": "06ceeb3c",
   "metadata": {},
   "outputs": [
    {
     "data": {
      "text/plain": [
       "[array([ 10,  40,  87,  33,  30,  38,  25,  67,  23,  58,  80,   2,  31,\n",
       "         85,  18,  94,  82,  98,  20,  88,  76,  34,  24,  64,  68,  84,\n",
       "          3,  75,  60,  70,  99,   6,  41,  52,  32,  14,  72,  63,   5,\n",
       "         36,   1,   9,  49,  95,  92,  79,  66,  51,  12,  74,  48,  27,\n",
       "         46,  39,  78,  91,  62,  42,  15,  21,  77, 100,  26,   4,  44,\n",
       "         57,  13,  35,  83,  97,  45,  19,  59,  17,  56,  11,   8,  89,\n",
       "         86,  37]),\n",
       " array([93, 55, 73, 16, 47, 81, 71, 53, 28, 50, 65, 69, 22, 43, 61, 90, 29,\n",
       "         7, 54, 96])]"
      ]
     },
     "execution_count": 8,
     "metadata": {},
     "output_type": "execute_result"
    }
   ],
   "source": [
    "train_test_split(a,test_size=0.2)"
   ]
  },
  {
   "cell_type": "markdown",
   "id": "d66b949d",
   "metadata": {},
   "source": [
    "#  Changing the shuffle "
   ]
  },
  {
   "cell_type": "code",
   "execution_count": 11,
   "id": "44def8c2",
   "metadata": {},
   "outputs": [
    {
     "data": {
      "text/plain": [
       "[array([ 56,  89,  27,  43,  70,  16,  41,  97,  10,  73,  12,  48,  86,\n",
       "         29,  94,   6,  67,  66,  36,  17,  50,  35,   8,  96,  28,  20,\n",
       "         82,  26,  63,  14,  25,   4,  18,  39,   9,  79,   7,  65,  37,\n",
       "         90,  57, 100,  55,  44,  51,  68,  47,  69,  62,  98,  80,  42,\n",
       "         59,  49,  99,  58,  76,  33,  95,  60,  64,  85,  38,  30,   2,\n",
       "         53,  22,   3,  24,  88,  92,  75,  87,  83,  21,  61,  72,  15,\n",
       "         93,  52]),\n",
       " array([84, 54, 71, 46, 45, 40, 23, 81, 11,  1, 19, 31, 74, 34, 91,  5, 77,\n",
       "        78, 13, 32])]"
      ]
     },
     "execution_count": 11,
     "metadata": {},
     "output_type": "execute_result"
    }
   ],
   "source": [
    "train_test_split(a,test_size=0.2, random_state = 42)"
   ]
  },
  {
   "cell_type": "markdown",
   "id": "12e24cf8",
   "metadata": {},
   "source": [
    "#  You can split more than 1 array at a time"
   ]
  },
  {
   "cell_type": "code",
   "execution_count": 12,
   "id": "18d0a870",
   "metadata": {},
   "outputs": [],
   "source": [
    "a_train, a_test, b_train, b_test = train_test_split(a,b, test_size=0.2, random_state = 42)"
   ]
  },
  {
   "cell_type": "code",
   "execution_count": 13,
   "id": "fc925074",
   "metadata": {},
   "outputs": [
    {
     "data": {
      "text/plain": [
       "(array([ 56,  89,  27,  43,  70,  16,  41,  97,  10,  73,  12,  48,  86,\n",
       "         29,  94,   6,  67,  66,  36,  17,  50,  35,   8,  96,  28,  20,\n",
       "         82,  26,  63,  14,  25,   4,  18,  39,   9,  79,   7,  65,  37,\n",
       "         90,  57, 100,  55,  44,  51,  68,  47,  69,  62,  98,  80,  42,\n",
       "         59,  49,  99,  58,  76,  33,  95,  60,  64,  85,  38,  30,   2,\n",
       "         53,  22,   3,  24,  88,  92,  75,  87,  83,  21,  61,  72,  15,\n",
       "         93,  52]),\n",
       " array([556, 589, 527, 543, 570, 516, 541, 597, 510, 573, 512, 548, 586,\n",
       "        529, 594, 506, 567, 566, 536, 517, 550, 535, 508, 596, 528, 520,\n",
       "        582, 526, 563, 514, 525, 504, 518, 539, 509, 579, 507, 565, 537,\n",
       "        590, 557, 600, 555, 544, 551, 568, 547, 569, 562, 598, 580, 542,\n",
       "        559, 549, 599, 558, 576, 533, 595, 560, 564, 585, 538, 530, 502,\n",
       "        553, 522, 503, 524, 588, 592, 575, 587, 583, 521, 561, 572, 515,\n",
       "        593, 552]))"
      ]
     },
     "execution_count": 13,
     "metadata": {},
     "output_type": "execute_result"
    }
   ],
   "source": [
    "a_train, b_train"
   ]
  },
  {
   "cell_type": "code",
   "execution_count": null,
   "id": "75b9ae5e",
   "metadata": {},
   "outputs": [],
   "source": []
  }
 ],
 "metadata": {
  "kernelspec": {
   "display_name": "Python 3",
   "language": "python",
   "name": "python3"
  },
  "language_info": {
   "codemirror_mode": {
    "name": "ipython",
    "version": 3
   },
   "file_extension": ".py",
   "mimetype": "text/x-python",
   "name": "python",
   "nbconvert_exporter": "python",
   "pygments_lexer": "ipython3",
   "version": "3.8.8"
  }
 },
 "nbformat": 4,
 "nbformat_minor": 5
}
