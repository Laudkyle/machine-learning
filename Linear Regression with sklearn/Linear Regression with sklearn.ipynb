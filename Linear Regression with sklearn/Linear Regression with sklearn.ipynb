{
 "cells": [
  {
   "cell_type": "code",
   "execution_count": 1,
   "id": "0b7d6a3b",
   "metadata": {},
   "outputs": [],
   "source": [
    "import numpy as np\n",
    "import pandas as pd\n",
    "import seaborn as sns\n",
    "import matplotlib.pyplot as plt\n",
    "from sklearn.linear_model import LinearRegression\n",
    "sns.set()"
   ]
  },
  {
   "cell_type": "code",
   "execution_count": 2,
   "id": "c6017fd2",
   "metadata": {},
   "outputs": [],
   "source": [
    "data = pd.read_csv('auto_insurance_sweden.csv')"
   ]
  },
  {
   "cell_type": "code",
   "execution_count": 3,
   "id": "8799ac05",
   "metadata": {},
   "outputs": [
    {
     "data": {
      "text/html": [
       "<div>\n",
       "<style scoped>\n",
       "    .dataframe tbody tr th:only-of-type {\n",
       "        vertical-align: middle;\n",
       "    }\n",
       "\n",
       "    .dataframe tbody tr th {\n",
       "        vertical-align: top;\n",
       "    }\n",
       "\n",
       "    .dataframe thead th {\n",
       "        text-align: right;\n",
       "    }\n",
       "</style>\n",
       "<table border=\"1\" class=\"dataframe\">\n",
       "  <thead>\n",
       "    <tr style=\"text-align: right;\">\n",
       "      <th></th>\n",
       "      <th>x</th>\n",
       "      <th>y</th>\n",
       "    </tr>\n",
       "  </thead>\n",
       "  <tbody>\n",
       "    <tr>\n",
       "      <th>0</th>\n",
       "      <td>108</td>\n",
       "      <td>392.5</td>\n",
       "    </tr>\n",
       "    <tr>\n",
       "      <th>1</th>\n",
       "      <td>19</td>\n",
       "      <td>46.2</td>\n",
       "    </tr>\n",
       "    <tr>\n",
       "      <th>2</th>\n",
       "      <td>13</td>\n",
       "      <td>15.7</td>\n",
       "    </tr>\n",
       "    <tr>\n",
       "      <th>3</th>\n",
       "      <td>124</td>\n",
       "      <td>422.2</td>\n",
       "    </tr>\n",
       "    <tr>\n",
       "      <th>4</th>\n",
       "      <td>40</td>\n",
       "      <td>119.4</td>\n",
       "    </tr>\n",
       "  </tbody>\n",
       "</table>\n",
       "</div>"
      ],
      "text/plain": [
       "     x      y\n",
       "0  108  392.5\n",
       "1   19   46.2\n",
       "2   13   15.7\n",
       "3  124  422.2\n",
       "4   40  119.4"
      ]
     },
     "execution_count": 3,
     "metadata": {},
     "output_type": "execute_result"
    }
   ],
   "source": [
    "data.head()"
   ]
  },
  {
   "cell_type": "code",
   "execution_count": 4,
   "id": "77c807c6",
   "metadata": {},
   "outputs": [],
   "source": [
    "x = data['x']\n",
    "y = data['y']"
   ]
  },
  {
   "cell_type": "code",
   "execution_count": 5,
   "id": "9cd2230f",
   "metadata": {},
   "outputs": [
    {
     "data": {
      "text/plain": [
       "0     392.5\n",
       "1      46.2\n",
       "2      15.7\n",
       "3     422.2\n",
       "4     119.4\n",
       "      ...  \n",
       "58     87.4\n",
       "59    209.8\n",
       "60     95.5\n",
       "61    244.6\n",
       "62    187.5\n",
       "Name: y, Length: 63, dtype: float64"
      ]
     },
     "execution_count": 5,
     "metadata": {},
     "output_type": "execute_result"
    }
   ],
   "source": [
    "y\n"
   ]
  },
  {
   "cell_type": "code",
   "execution_count": 6,
   "id": "7ceaf4e1",
   "metadata": {},
   "outputs": [
    {
     "data": {
      "text/plain": [
       "(63,)"
      ]
     },
     "execution_count": 6,
     "metadata": {},
     "output_type": "execute_result"
    }
   ],
   "source": [
    "x.shape"
   ]
  },
  {
   "cell_type": "markdown",
   "id": "2ef0d7a3",
   "metadata": {},
   "source": [
    "# For sklearn,  you have to create an instance of the linear regression first"
   ]
  },
  {
   "cell_type": "code",
   "execution_count": 7,
   "id": "f08be0fe",
   "metadata": {},
   "outputs": [],
   "source": [
    "reg = LinearRegression()"
   ]
  },
  {
   "cell_type": "markdown",
   "id": "b8e91f5b",
   "metadata": {},
   "source": [
    "# Then change the shape from 1d to 2d if you are using only one x value"
   ]
  },
  {
   "cell_type": "code",
   "execution_count": 8,
   "id": "2c1cfade",
   "metadata": {},
   "outputs": [],
   "source": [
    "x_matrix = x.values.reshape(-1,1)"
   ]
  },
  {
   "cell_type": "code",
   "execution_count": 9,
   "id": "790e34a6",
   "metadata": {},
   "outputs": [
    {
     "data": {
      "text/plain": [
       "(63, 1)"
      ]
     },
     "execution_count": 9,
     "metadata": {},
     "output_type": "execute_result"
    }
   ],
   "source": [
    "x_matrix.shape"
   ]
  },
  {
   "cell_type": "markdown",
   "id": "1a38fa09",
   "metadata": {},
   "source": [
    "#  Now fit the model"
   ]
  },
  {
   "cell_type": "code",
   "execution_count": 10,
   "id": "b5cdd8f3",
   "metadata": {},
   "outputs": [
    {
     "data": {
      "text/plain": [
       "LinearRegression()"
      ]
     },
     "execution_count": 10,
     "metadata": {},
     "output_type": "execute_result"
    }
   ],
   "source": [
    "reg.fit(x_matrix,y)"
   ]
  },
  {
   "cell_type": "markdown",
   "id": "6d828423",
   "metadata": {},
   "source": [
    "#  To get the statistical summary, we use some commands "
   ]
  },
  {
   "cell_type": "code",
   "execution_count": 11,
   "id": "24f7f53f",
   "metadata": {},
   "outputs": [
    {
     "data": {
      "text/plain": [
       "0.8333466719794502"
      ]
     },
     "execution_count": 11,
     "metadata": {},
     "output_type": "execute_result"
    }
   ],
   "source": [
    "reg.score(x_matrix,y) #this is to the R Squared"
   ]
  },
  {
   "cell_type": "code",
   "execution_count": 12,
   "id": "21c87c30",
   "metadata": {},
   "outputs": [
    {
     "data": {
      "text/plain": [
       "array([3.41382356])"
      ]
     },
     "execution_count": 12,
     "metadata": {},
     "output_type": "execute_result"
    }
   ],
   "source": [
    "reg.coef_ #This is to get the coefficient of the regression"
   ]
  },
  {
   "cell_type": "code",
   "execution_count": 13,
   "id": "2b14631a",
   "metadata": {},
   "outputs": [
    {
     "data": {
      "text/plain": [
       "19.994485759114795"
      ]
     },
     "execution_count": 13,
     "metadata": {},
     "output_type": "execute_result"
    }
   ],
   "source": [
    "reg.intercept_ # This is to get the intercept"
   ]
  },
  {
   "cell_type": "markdown",
   "id": "c177ee47",
   "metadata": {},
   "source": [
    "#  Predictions"
   ]
  },
  {
   "cell_type": "markdown",
   "id": "4b10fdeb",
   "metadata": {},
   "source": [
    "##  In making predictions, you have to insert 2d arrays into the predict method"
   ]
  },
  {
   "cell_type": "code",
   "execution_count": 14,
   "id": "1b455b68",
   "metadata": {},
   "outputs": [
    {
     "data": {
      "text/plain": [
       "array([388.68743025,  84.8571334 ,  64.37419204, 443.30860721,\n",
       "       156.54742816, 214.58242868,  98.51242764,  67.7880156 ,\n",
       "       173.61654596,  54.13272136,  37.06360356, 183.85801664,\n",
       "        57.54654492,  98.51242764,  43.89125068,  26.82213288,\n",
       "       101.9262512 ,  40.47742712,  30.23595644,  98.51242764,\n",
       "        40.47742712,  50.7188978 ,  50.7188978 ,  30.23595644,\n",
       "       118.995369  ,  43.89125068,  33.64978   ,  88.27095696,\n",
       "        43.89125068,  33.64978   ,  19.99448576, 105.34007476,\n",
       "        40.47742712,  37.06360356,  95.09860408,  57.54654492,\n",
       "       228.23772292,  60.96036848,  33.64978   ,  74.61566272,\n",
       "        64.37419204, 224.82389936, 159.96125172, 146.30595748,\n",
       "       207.75478156, 159.96125172,  57.54654492, 112.16772188,\n",
       "        47.30507424,  30.23595644,  78.02948628,  64.37419204,\n",
       "        64.37419204,  71.20183916,  47.30507424, 118.995369  ,\n",
       "       122.40919256, 101.9262512 ,  50.7188978 , 125.82301612,\n",
       "        67.7880156 , 200.92713444, 108.75389832])"
      ]
     },
     "execution_count": 14,
     "metadata": {},
     "output_type": "execute_result"
    }
   ],
   "source": [
    "reg.predict(x_matrix)"
   ]
  },
  {
   "cell_type": "markdown",
   "id": "7891bc1d",
   "metadata": {},
   "source": [
    "#   MULTIPLE LINEAR REGRESSION"
   ]
  },
  {
   "cell_type": "code",
   "execution_count": 15,
   "id": "af95c44d",
   "metadata": {},
   "outputs": [],
   "source": [
    "newdata = pd.read_csv('Fish.csv')"
   ]
  },
  {
   "cell_type": "code",
   "execution_count": 16,
   "id": "d75f11cf",
   "metadata": {},
   "outputs": [
    {
     "data": {
      "text/html": [
       "<div>\n",
       "<style scoped>\n",
       "    .dataframe tbody tr th:only-of-type {\n",
       "        vertical-align: middle;\n",
       "    }\n",
       "\n",
       "    .dataframe tbody tr th {\n",
       "        vertical-align: top;\n",
       "    }\n",
       "\n",
       "    .dataframe thead th {\n",
       "        text-align: right;\n",
       "    }\n",
       "</style>\n",
       "<table border=\"1\" class=\"dataframe\">\n",
       "  <thead>\n",
       "    <tr style=\"text-align: right;\">\n",
       "      <th></th>\n",
       "      <th>Species</th>\n",
       "      <th>Weight</th>\n",
       "      <th>Length1</th>\n",
       "      <th>Length2</th>\n",
       "      <th>Length3</th>\n",
       "      <th>Height</th>\n",
       "      <th>Width</th>\n",
       "    </tr>\n",
       "  </thead>\n",
       "  <tbody>\n",
       "    <tr>\n",
       "      <th>0</th>\n",
       "      <td>Bream</td>\n",
       "      <td>242.0</td>\n",
       "      <td>23.2</td>\n",
       "      <td>25.4</td>\n",
       "      <td>30.0</td>\n",
       "      <td>11.5200</td>\n",
       "      <td>4.0200</td>\n",
       "    </tr>\n",
       "    <tr>\n",
       "      <th>1</th>\n",
       "      <td>Bream</td>\n",
       "      <td>290.0</td>\n",
       "      <td>24.0</td>\n",
       "      <td>26.3</td>\n",
       "      <td>31.2</td>\n",
       "      <td>12.4800</td>\n",
       "      <td>4.3056</td>\n",
       "    </tr>\n",
       "    <tr>\n",
       "      <th>2</th>\n",
       "      <td>Bream</td>\n",
       "      <td>340.0</td>\n",
       "      <td>23.9</td>\n",
       "      <td>26.5</td>\n",
       "      <td>31.1</td>\n",
       "      <td>12.3778</td>\n",
       "      <td>4.6961</td>\n",
       "    </tr>\n",
       "    <tr>\n",
       "      <th>3</th>\n",
       "      <td>Bream</td>\n",
       "      <td>363.0</td>\n",
       "      <td>26.3</td>\n",
       "      <td>29.0</td>\n",
       "      <td>33.5</td>\n",
       "      <td>12.7300</td>\n",
       "      <td>4.4555</td>\n",
       "    </tr>\n",
       "    <tr>\n",
       "      <th>4</th>\n",
       "      <td>Bream</td>\n",
       "      <td>430.0</td>\n",
       "      <td>26.5</td>\n",
       "      <td>29.0</td>\n",
       "      <td>34.0</td>\n",
       "      <td>12.4440</td>\n",
       "      <td>5.1340</td>\n",
       "    </tr>\n",
       "  </tbody>\n",
       "</table>\n",
       "</div>"
      ],
      "text/plain": [
       "  Species  Weight  Length1  Length2  Length3   Height   Width\n",
       "0   Bream   242.0     23.2     25.4     30.0  11.5200  4.0200\n",
       "1   Bream   290.0     24.0     26.3     31.2  12.4800  4.3056\n",
       "2   Bream   340.0     23.9     26.5     31.1  12.3778  4.6961\n",
       "3   Bream   363.0     26.3     29.0     33.5  12.7300  4.4555\n",
       "4   Bream   430.0     26.5     29.0     34.0  12.4440  5.1340"
      ]
     },
     "execution_count": 16,
     "metadata": {},
     "output_type": "execute_result"
    }
   ],
   "source": [
    "newdata.head()"
   ]
  },
  {
   "cell_type": "code",
   "execution_count": 17,
   "id": "fb8a9c1a",
   "metadata": {},
   "outputs": [],
   "source": [
    "x = newdata[['Weight', 'Height']]\n",
    "y = newdata['Width']"
   ]
  },
  {
   "cell_type": "markdown",
   "id": "adb3d658",
   "metadata": {},
   "source": [
    "#  You don't need to reshape the model because it already has 2d"
   ]
  },
  {
   "cell_type": "code",
   "execution_count": 18,
   "id": "28189d5b",
   "metadata": {},
   "outputs": [
    {
     "data": {
      "text/plain": [
       "LinearRegression()"
      ]
     },
     "execution_count": 18,
     "metadata": {},
     "output_type": "execute_result"
    }
   ],
   "source": [
    "reg1 = LinearRegression()\n",
    "reg1.fit(x,y)"
   ]
  },
  {
   "cell_type": "code",
   "execution_count": 19,
   "id": "7068797d",
   "metadata": {},
   "outputs": [],
   "source": [
    "coefficient = reg1.coef_ # Getting the coefficient"
   ]
  },
  {
   "cell_type": "code",
   "execution_count": 20,
   "id": "a9200d9e",
   "metadata": {},
   "outputs": [],
   "source": [
    "intercept = reg1.intercept_"
   ]
  },
  {
   "cell_type": "code",
   "execution_count": 21,
   "id": "1a0c2394",
   "metadata": {},
   "outputs": [
    {
     "data": {
      "text/plain": [
       "0.833700911093449"
      ]
     },
     "execution_count": 21,
     "metadata": {},
     "output_type": "execute_result"
    }
   ],
   "source": [
    "reg1.score(x,y) # Getting the R squared"
   ]
  },
  {
   "cell_type": "markdown",
   "id": "4a61cb52",
   "metadata": {},
   "source": [
    "#  Sklearn does not have a defined adjusted r squared value hence you have to create your own"
   ]
  },
  {
   "cell_type": "markdown",
   "id": "d732f372",
   "metadata": {},
   "source": [
    "##  In creating your own, you use jupyter notebook to write done the formular"
   ]
  },
  {
   "cell_type": "markdown",
   "id": "4f203073",
   "metadata": {},
   "source": [
    "$R^2_{adj.} = 1-(1-R^2)*\\frac{n-1}{n-p-1}$"
   ]
  },
  {
   "cell_type": "code",
   "execution_count": 22,
   "id": "afe7ca16",
   "metadata": {},
   "outputs": [],
   "source": [
    "r2 = reg1.score(x,y)\n",
    "n = x.shape[0]\n",
    "p = x.shape[1]\n",
    "\n",
    "adjusted_r2 = 1-(1-r2)*(n-1)/(n-p-1)"
   ]
  },
  {
   "cell_type": "code",
   "execution_count": 23,
   "id": "3eaadf24",
   "metadata": {},
   "outputs": [
    {
     "data": {
      "text/plain": [
       "0.831568871492083"
      ]
     },
     "execution_count": 23,
     "metadata": {},
     "output_type": "execute_result"
    }
   ],
   "source": [
    "adjusted_r2 # Finding the adjusted r squared value\n"
   ]
  },
  {
   "cell_type": "markdown",
   "id": "24c0b3fc",
   "metadata": {},
   "source": [
    "##  Feature selection and f_regression"
   ]
  },
  {
   "cell_type": "code",
   "execution_count": 24,
   "id": "c1ae7fb2",
   "metadata": {},
   "outputs": [],
   "source": [
    "from sklearn.feature_selection import f_regression"
   ]
  },
  {
   "cell_type": "code",
   "execution_count": 25,
   "id": "32f3b7dc",
   "metadata": {},
   "outputs": [
    {
     "data": {
      "text/plain": [
       "(array([576.28151245, 265.79347778]), array([2.03819464e-54, 1.34754904e-35]))"
      ]
     },
     "execution_count": 25,
     "metadata": {},
     "output_type": "execute_result"
    }
   ],
   "source": [
    "f_regression(x,y)"
   ]
  },
  {
   "cell_type": "code",
   "execution_count": 26,
   "id": "cc44bbfa",
   "metadata": {},
   "outputs": [],
   "source": [
    "p_values = f_regression(x,y)[1]\n"
   ]
  },
  {
   "cell_type": "code",
   "execution_count": 27,
   "id": "e38c1f93",
   "metadata": {},
   "outputs": [
    {
     "data": {
      "text/plain": [
       "array([2.03819464e-54, 1.34754904e-35])"
      ]
     },
     "execution_count": 27,
     "metadata": {},
     "output_type": "execute_result"
    }
   ],
   "source": [
    "p_values"
   ]
  },
  {
   "cell_type": "markdown",
   "id": "ad256610",
   "metadata": {},
   "source": [
    "###  Round them up to know which one is closer to 0"
   ]
  },
  {
   "cell_type": "code",
   "execution_count": 28,
   "id": "de32af4d",
   "metadata": {},
   "outputs": [],
   "source": [
    "p_values= p_values.round(3)"
   ]
  },
  {
   "cell_type": "markdown",
   "id": "4bf90af3",
   "metadata": {},
   "source": [
    "###  Since They are all smaller than 0.05 then they are all relevant"
   ]
  },
  {
   "cell_type": "markdown",
   "id": "084cb11a",
   "metadata": {},
   "source": [
    "#  Creating a summary for the model"
   ]
  },
  {
   "cell_type": "code",
   "execution_count": 29,
   "id": "97405e30",
   "metadata": {},
   "outputs": [
    {
     "data": {
      "text/html": [
       "<div>\n",
       "<style scoped>\n",
       "    .dataframe tbody tr th:only-of-type {\n",
       "        vertical-align: middle;\n",
       "    }\n",
       "\n",
       "    .dataframe tbody tr th {\n",
       "        vertical-align: top;\n",
       "    }\n",
       "\n",
       "    .dataframe thead th {\n",
       "        text-align: right;\n",
       "    }\n",
       "</style>\n",
       "<table border=\"1\" class=\"dataframe\">\n",
       "  <thead>\n",
       "    <tr style=\"text-align: right;\">\n",
       "      <th></th>\n",
       "      <th>Features</th>\n",
       "    </tr>\n",
       "  </thead>\n",
       "  <tbody>\n",
       "    <tr>\n",
       "      <th>R Squared</th>\n",
       "      <td>0.833701</td>\n",
       "    </tr>\n",
       "    <tr>\n",
       "      <th>Adjusted R Sqaured</th>\n",
       "      <td>0.831569</td>\n",
       "    </tr>\n",
       "    <tr>\n",
       "      <th>Coefficients</th>\n",
       "      <td>[0.00309296824002104, 0.12473391697274713]</td>\n",
       "    </tr>\n",
       "    <tr>\n",
       "      <th>Intercept</th>\n",
       "      <td>2.066487</td>\n",
       "    </tr>\n",
       "    <tr>\n",
       "      <th>P Values</th>\n",
       "      <td>[0.0, 0.0]</td>\n",
       "    </tr>\n",
       "  </tbody>\n",
       "</table>\n",
       "</div>"
      ],
      "text/plain": [
       "                                                      Features\n",
       "R Squared                                             0.833701\n",
       "Adjusted R Sqaured                                    0.831569\n",
       "Coefficients        [0.00309296824002104, 0.12473391697274713]\n",
       "Intercept                                             2.066487\n",
       "P Values                                            [0.0, 0.0]"
      ]
     },
     "execution_count": 29,
     "metadata": {},
     "output_type": "execute_result"
    }
   ],
   "source": [
    "reg_summary = pd.DataFrame({'Features':[r2,adjusted_r2,reg1.coef_,reg1.intercept_,p_values]})\n",
    "reg_summary = reg_summary.rename( index={0:'R Squared',1:'Adjusted R Sqaured', 2:'Coefficients',3:'Intercept',4:'P Values'})\n",
    "reg_summary"
   ]
  },
  {
   "cell_type": "markdown",
   "id": "4cca5ab4",
   "metadata": {},
   "source": [
    "#  STANDARDISATION"
   ]
  },
  {
   "cell_type": "code",
   "execution_count": 30,
   "id": "b88ee260",
   "metadata": {},
   "outputs": [],
   "source": [
    "from sklearn.preprocessing import StandardScaler"
   ]
  },
  {
   "cell_type": "code",
   "execution_count": 33,
   "id": "915c1b8f",
   "metadata": {},
   "outputs": [],
   "source": [
    "scaler = StandardScaler()"
   ]
  },
  {
   "cell_type": "code",
   "execution_count": null,
   "id": "366a7a08",
   "metadata": {},
   "outputs": [],
   "source": []
  },
  {
   "cell_type": "code",
   "execution_count": 36,
   "id": "e81647c6",
   "metadata": {},
   "outputs": [
    {
     "data": {
      "text/plain": [
       "StandardScaler()"
      ]
     },
     "execution_count": 36,
     "metadata": {},
     "output_type": "execute_result"
    }
   ],
   "source": [
    "scaler.fit(x)"
   ]
  },
  {
   "cell_type": "code",
   "execution_count": 37,
   "id": "8daac617",
   "metadata": {},
   "outputs": [],
   "source": [
    "x_scaled = scaler.transform(x)"
   ]
  },
  {
   "cell_type": "code",
   "execution_count": 38,
   "id": "4c844a7e",
   "metadata": {},
   "outputs": [
    {
     "data": {
      "text/plain": [
       "array([[-0.43807217,  0.59657867],\n",
       "       [-0.30356218,  0.82126055],\n",
       "       [-0.16344761,  0.79734129],\n",
       "       [-0.09899491,  0.87977146],\n",
       "       [ 0.08875862,  0.81283498],\n",
       "       [ 0.14480444,  1.08395111],\n",
       "       [ 0.28491901,  1.21901769],\n",
       "       [-0.02333304,  0.86572884],\n",
       "       [ 0.14480444,  1.17815367],\n",
       "       [ 0.28491901,  1.23004114],\n",
       "       [ 0.21486173,  1.23851352],\n",
       "       [ 0.28491901,  1.26393066],\n",
       "       [ 0.28491901,  1.12064915],\n",
       "       [-0.16344761,  1.15662166],\n",
       "       [ 0.56514816,  1.40037809],\n",
       "       [ 0.56514816,  1.51356159],\n",
       "       [ 0.8453773 ,  1.37837799],\n",
       "       [ 0.8453773 ,  1.39653978],\n",
       "       [ 0.59317107,  1.5592001 ],\n",
       "       [ 0.70526273,  1.28789673],\n",
       "       [ 0.49509087,  1.44112509],\n",
       "       [ 0.80334293,  1.64359623],\n",
       "       [ 0.62119399,  1.53338508],\n",
       "       [ 0.78933147,  1.52072332],\n",
       "       [ 0.8453773 ,  1.7013816 ],\n",
       "       [ 0.91543458,  1.72934981],\n",
       "       [ 0.90142313,  1.72977109],\n",
       "       [ 0.88460938,  1.76609466],\n",
       "       [ 1.26572101,  1.85329931],\n",
       "       [ 1.68606473,  2.3371611 ],\n",
       "       [ 1.46188141,  2.12181756],\n",
       "       [ 1.55996161,  2.13284102],\n",
       "       [ 1.47589287,  2.28969706],\n",
       "       [ 1.61600744,  2.26189267],\n",
       "       [ 1.54595015,  2.02506393],\n",
       "       [-1.00413504, -1.12897816],\n",
       "       [-0.92286859, -0.85957055],\n",
       "       [-0.89764797, -0.79467025],\n",
       "       [-0.87242734, -0.78507446],\n",
       "       [-0.77995173, -0.64478871],\n",
       "       [-1.1162267 , -0.58412461],\n",
       "       [-0.80797464, -0.65609302],\n",
       "       [-0.77995173, -0.66852074],\n",
       "       [-0.69588298, -0.74109766],\n",
       "       [-0.70989444, -0.54698188],\n",
       "       [-0.66786007, -0.45348145],\n",
       "       [-0.7239059 , -0.56661814],\n",
       "       [-0.66786007, -0.60172469],\n",
       "       [-0.64263945, -0.3362256 ],\n",
       "       [-0.66505778, -0.48112201],\n",
       "       [-0.55576841, -0.36843   ],\n",
       "       [-0.61181424, -0.44103033],\n",
       "       [-0.30356218, -0.02204544],\n",
       "       [-0.35400343, -0.09431811],\n",
       "       [-0.02333304,  0.12029989],\n",
       "       [-0.35960801, -0.13822469],\n",
       "       [-0.35960801, -0.19322494],\n",
       "       [-0.25872552, -0.04516895],\n",
       "       [ 0.39701067,  0.41496082],\n",
       "       [ 1.12560644,  0.65302999],\n",
       "       [ 1.68606473,  0.79177105],\n",
       "       [-0.96210067, -0.49699016],\n",
       "       [-0.94808921, -0.56025216],\n",
       "       [-0.86402047, -0.36646403],\n",
       "       [-0.77995173, -0.13546298],\n",
       "       [-0.69588298, -0.01830074],\n",
       "       [-0.7239059 , -0.10143303],\n",
       "       [-0.63983715,  0.09947001],\n",
       "       [-0.70989444,  0.17913846],\n",
       "       [-0.55576841,  0.32176465],\n",
       "       [-0.35120114,  0.49547182],\n",
       "       [-0.27553927,  0.56100404],\n",
       "       [-1.09969318, -1.60530375],\n",
       "       [-1.02655337, -1.27389797],\n",
       "       [-1.00413504, -1.20462106],\n",
       "       [-0.97190869, -1.02478194],\n",
       "       [-0.9200663 , -1.02581173],\n",
       "       [-0.83599755, -0.87733446],\n",
       "       [-0.89764797, -0.88276427],\n",
       "       [-0.89204338, -0.78058082],\n",
       "       [-0.87803193, -0.89718136],\n",
       "       [-0.87803193, -0.91019418],\n",
       "       [-0.80797464, -0.76731055],\n",
       "       [-0.79396318, -0.71465073],\n",
       "       [-0.76594027, -0.76731055],\n",
       "       [-0.75192881, -0.60546938],\n",
       "       [-0.77995173, -0.66959734],\n",
       "       [-0.77995173, -0.77959784],\n",
       "       [-0.75192881, -0.66959734],\n",
       "       [-0.73791735, -0.72459759],\n",
       "       [-0.80797464, -0.80709797],\n",
       "       [-0.75192881, -0.72904442],\n",
       "       [-0.69588298, -0.50997959],\n",
       "       [-0.70989444, -0.70629538],\n",
       "       [-0.69588298, -0.87824723],\n",
       "       [-0.63983715, -0.63098014],\n",
       "       [-0.48571113, -0.39272373],\n",
       "       [-0.70989444, -0.60757578],\n",
       "       [-0.58939591, -0.52369454],\n",
       "       [-0.61181424, -0.59247996],\n",
       "       [-0.56417529, -0.56404366],\n",
       "       [-0.50532717, -0.42197918],\n",
       "       [-0.27553927, -0.1516588 ],\n",
       "       [-0.38763093, -0.42216642],\n",
       "       [-0.37361947, -0.44922186],\n",
       "       [-0.41565384, -0.39511097],\n",
       "       [-0.41565384, -0.26928912],\n",
       "       [-0.27553927, -0.32433618],\n",
       "       [-0.21949344, -0.31722126],\n",
       "       [ 0.32415109,  0.24785367],\n",
       "       [ 0.44184733,  0.30086455],\n",
       "       [ 1.2376981 ,  0.58918289],\n",
       "       [ 0.80334293,  0.44702479],\n",
       "       [ 0.8453773 ,  0.38338833],\n",
       "       [ 0.8453773 ,  0.43625879],\n",
       "       [ 0.81735438,  0.3746351 ],\n",
       "       [ 1.40583558,  0.50684634],\n",
       "       [ 0.70526273,  0.50684634],\n",
       "       [ 1.18165227,  0.80986262],\n",
       "       [ 1.26572101,  0.69220889],\n",
       "       [ 1.40583558,  0.64572783],\n",
       "       [ 1.7280991 ,  0.79804342],\n",
       "       [ 1.18165227,  0.50647187],\n",
       "       [ 1.96629387,  0.89620132],\n",
       "       [ 1.68606473,  0.69319188],\n",
       "       [ 1.96629387,  0.82886697],\n",
       "       [ 1.68606473,  0.85028196],\n",
       "       [ 1.68606473,  0.82332013],\n",
       "       [-0.55576841, -0.79644898],\n",
       "       [-0.27553927, -0.76372968],\n",
       "       [-0.27553927, -0.71022731],\n",
       "       [-0.27553927, -0.62784395],\n",
       "       [ 0.08875862, -0.39342586],\n",
       "       [-0.14943616, -0.60266086],\n",
       "       [ 0.16161819, -0.3957663 ],\n",
       "       [ 0.31294193, -0.50225615],\n",
       "       [ 0.39701067, -0.27734022],\n",
       "       [ 0.28491901, -0.47066026],\n",
       "       [ 0.47267254, -0.27593596],\n",
       "       [ 1.0415377 , -0.30214885],\n",
       "       [ 1.54595015, -0.01048368],\n",
       "       [ 2.38663758,  0.4014565 ],\n",
       "       [ 3.36743958,  0.14721491],\n",
       "       [ 3.22732501,  0.14721491],\n",
       "       [ 3.50755415,  0.43087578],\n",
       "       [-1.09745134, -1.69264883],\n",
       "       [-1.09520951, -1.63806985],\n",
       "       [-1.09661066, -1.69508288],\n",
       "       [-1.08904447, -1.58564408],\n",
       "       [-1.08876424, -1.6120442 ],\n",
       "       [-1.09184676, -1.63661878],\n",
       "       [-1.08820378, -1.5814547 ],\n",
       "       [-1.08848401, -1.5814547 ],\n",
       "       [-1.08876424, -1.58367812],\n",
       "       [-1.08203874, -1.61035909],\n",
       "       [-1.07867599, -1.53087787],\n",
       "       [-1.08203874, -1.56668655],\n",
       "       [-1.06102155, -1.42724336],\n",
       "       [-1.0604611 , -1.41334117]])"
      ]
     },
     "execution_count": 38,
     "metadata": {},
     "output_type": "execute_result"
    }
   ],
   "source": [
    "x_scaled\n"
   ]
  },
  {
   "cell_type": "code",
   "execution_count": 83,
   "id": "93c87107",
   "metadata": {},
   "outputs": [
    {
     "data": {
      "text/plain": [
       "LinearRegression()"
      ]
     },
     "execution_count": 83,
     "metadata": {},
     "output_type": "execute_result"
    }
   ],
   "source": [
    "reg2 = LinearRegression()\n",
    "reg2.fit(x_scaled,y)"
   ]
  },
  {
   "cell_type": "code",
   "execution_count": 84,
   "id": "4695e434",
   "metadata": {},
   "outputs": [
    {
     "data": {
      "text/html": [
       "<div>\n",
       "<style scoped>\n",
       "    .dataframe tbody tr th:only-of-type {\n",
       "        vertical-align: middle;\n",
       "    }\n",
       "\n",
       "    .dataframe tbody tr th {\n",
       "        vertical-align: top;\n",
       "    }\n",
       "\n",
       "    .dataframe thead th {\n",
       "        text-align: right;\n",
       "    }\n",
       "</style>\n",
       "<table border=\"1\" class=\"dataframe\">\n",
       "  <thead>\n",
       "    <tr style=\"text-align: right;\">\n",
       "      <th></th>\n",
       "      <th>Features</th>\n",
       "      <th>Weights</th>\n",
       "    </tr>\n",
       "  </thead>\n",
       "  <tbody>\n",
       "    <tr>\n",
       "      <th>0</th>\n",
       "      <td>Bias</td>\n",
       "      <td>4.417486</td>\n",
       "    </tr>\n",
       "    <tr>\n",
       "      <th>1</th>\n",
       "      <td>R^2</td>\n",
       "      <td>0.833701</td>\n",
       "    </tr>\n",
       "    <tr>\n",
       "      <th>2</th>\n",
       "      <td>Weight</td>\n",
       "      <td>1.103728</td>\n",
       "    </tr>\n",
       "    <tr>\n",
       "      <th>3</th>\n",
       "      <td>Height</td>\n",
       "      <td>0.532952</td>\n",
       "    </tr>\n",
       "  </tbody>\n",
       "</table>\n",
       "</div>"
      ],
      "text/plain": [
       "  Features   Weights\n",
       "0     Bias  4.417486\n",
       "1      R^2  0.833701\n",
       "2   Weight  1.103728\n",
       "3   Height  0.532952"
      ]
     },
     "execution_count": 84,
     "metadata": {},
     "output_type": "execute_result"
    }
   ],
   "source": [
    "reg2_summary = pd.DataFrame([['Bias'],['R^2'],['Weight'],['Height']], columns=[\"Features\"])\n",
    "reg2_summary['Weights'] = reg2.intercept_,reg2.score(x_scaled,y),reg2.coef_[0],reg2.coef_[1]\n",
    "reg2_summary"
   ]
  },
  {
   "cell_type": "code",
   "execution_count": 85,
   "id": "0b94308e",
   "metadata": {},
   "outputs": [
    {
     "data": {
      "text/plain": [
       "array([4.25192044, 4.52012747, 4.66202808, 4.77709763, 4.9486526 ,\n",
       "       5.15500374, 5.38163609, 4.85312374, 5.20520914, 5.38751106,\n",
       "       5.31470222, 5.40557253, 5.32921043, 4.85350711, 5.78758923,\n",
       "       5.84791055, 6.08516107, 6.09484042, 5.90316335, 5.88229052,\n",
       "       5.7319812 , 6.18011502, 5.92033488, 6.09916487, 6.25730635,\n",
       "       6.34953625, 6.33429593, 6.33509683, 6.80221637, 7.5240365 ,\n",
       "       7.16183137, 7.27596022, 7.26676785, 7.40659787, 7.20305541,\n",
       "       2.70750263, 2.94077992, 3.00320535, 3.03615615, 3.21298962,\n",
       "       2.87416446, 3.17603528, 3.2003416 , 3.25445066, 3.34244013,\n",
       "       3.43866585, 3.31651011, 3.35965939, 3.52899426, 3.42702774,\n",
       "       3.60771288, 3.50716106, 4.07068622, 3.97649496, 4.45584621,\n",
       "       3.94690894, 3.91759647, 4.10785   , 5.07683145, 6.00788254,\n",
       "       6.70041845, 3.09071615, 3.07246541, 3.26853414, 3.48443557,\n",
       "       3.63966641, 3.56443124, 3.76429188, 3.7294271 , 3.97555321,\n",
       "       4.2939174 , 4.41235304, 2.34817394, 2.60552364, 2.66718863,\n",
       "       2.7986033 , 2.85527439, 3.02719463, 2.9562555 , 3.01690027,\n",
       "       2.97022267, 2.96328747, 3.11676173, 3.1602917 , 3.16315625,\n",
       "       3.2648746 , 3.19976782, 3.14114288, 3.2306975 , 3.21684987,\n",
       "       3.09555696, 3.19901509, 3.3776254 , 3.25753375, 3.18135658,\n",
       "       3.37499733, 3.67208971, 3.31014651, 3.48784878, 3.42644574,\n",
       "       3.49418137, 3.63484719, 4.03253826, 3.76465207, 3.76569767,\n",
       "       3.74814163, 3.81519858, 3.94050958, 4.00616085, 4.90735426,\n",
       "       5.06551116, 6.09757385, 5.54240039, 5.55487977, 5.58305716,\n",
       "       5.51928503, 6.23927055, 5.46602849, 6.1533261 , 6.1834114 ,\n",
       "       6.31328766, 6.75015584, 5.99163352, 7.06537155, 6.64788052,\n",
       "       7.0294856 , 6.73160193, 6.71723258, 3.3795995 , 3.70633412,\n",
       "       3.7348483 , 3.77875463, 4.305774  , 3.93135957, 4.38494383,\n",
       "       4.49521018, 4.70786853, 4.48111958, 4.79212707, 5.40602943,\n",
       "       6.11820712, 7.26564176, 8.21268219, 8.05803377, 8.51850811,\n",
       "       2.30409762, 2.33565994, 2.30372828, 2.37040487, 2.35664418,\n",
       "       2.34014486, 2.3735655 , 2.3732562 , 2.37176193, 2.36496539,\n",
       "       2.41103659, 2.38824074, 2.48575447, 2.49378226])"
      ]
     },
     "execution_count": 85,
     "metadata": {},
     "output_type": "execute_result"
    }
   ],
   "source": [
    "reg2.predict(x_scaled)"
   ]
  },
  {
   "cell_type": "markdown",
   "id": "4bda9d6e",
   "metadata": {},
   "source": [
    "#  Making a new data for testing the model"
   ]
  },
  {
   "cell_type": "code",
   "execution_count": 87,
   "id": "e01f4a6c",
   "metadata": {},
   "outputs": [
    {
     "data": {
      "text/html": [
       "<div>\n",
       "<style scoped>\n",
       "    .dataframe tbody tr th:only-of-type {\n",
       "        vertical-align: middle;\n",
       "    }\n",
       "\n",
       "    .dataframe tbody tr th {\n",
       "        vertical-align: top;\n",
       "    }\n",
       "\n",
       "    .dataframe thead th {\n",
       "        text-align: right;\n",
       "    }\n",
       "</style>\n",
       "<table border=\"1\" class=\"dataframe\">\n",
       "  <thead>\n",
       "    <tr style=\"text-align: right;\">\n",
       "      <th></th>\n",
       "      <th>Species</th>\n",
       "      <th>Weight</th>\n",
       "      <th>Length1</th>\n",
       "      <th>Length2</th>\n",
       "      <th>Length3</th>\n",
       "      <th>Height</th>\n",
       "      <th>Width</th>\n",
       "    </tr>\n",
       "  </thead>\n",
       "  <tbody>\n",
       "    <tr>\n",
       "      <th>0</th>\n",
       "      <td>Bream</td>\n",
       "      <td>242.0</td>\n",
       "      <td>23.2</td>\n",
       "      <td>25.4</td>\n",
       "      <td>30.0</td>\n",
       "      <td>11.5200</td>\n",
       "      <td>4.0200</td>\n",
       "    </tr>\n",
       "    <tr>\n",
       "      <th>1</th>\n",
       "      <td>Bream</td>\n",
       "      <td>290.0</td>\n",
       "      <td>24.0</td>\n",
       "      <td>26.3</td>\n",
       "      <td>31.2</td>\n",
       "      <td>12.4800</td>\n",
       "      <td>4.3056</td>\n",
       "    </tr>\n",
       "    <tr>\n",
       "      <th>2</th>\n",
       "      <td>Bream</td>\n",
       "      <td>340.0</td>\n",
       "      <td>23.9</td>\n",
       "      <td>26.5</td>\n",
       "      <td>31.1</td>\n",
       "      <td>12.3778</td>\n",
       "      <td>4.6961</td>\n",
       "    </tr>\n",
       "    <tr>\n",
       "      <th>3</th>\n",
       "      <td>Bream</td>\n",
       "      <td>363.0</td>\n",
       "      <td>26.3</td>\n",
       "      <td>29.0</td>\n",
       "      <td>33.5</td>\n",
       "      <td>12.7300</td>\n",
       "      <td>4.4555</td>\n",
       "    </tr>\n",
       "    <tr>\n",
       "      <th>4</th>\n",
       "      <td>Bream</td>\n",
       "      <td>430.0</td>\n",
       "      <td>26.5</td>\n",
       "      <td>29.0</td>\n",
       "      <td>34.0</td>\n",
       "      <td>12.4440</td>\n",
       "      <td>5.1340</td>\n",
       "    </tr>\n",
       "    <tr>\n",
       "      <th>...</th>\n",
       "      <td>...</td>\n",
       "      <td>...</td>\n",
       "      <td>...</td>\n",
       "      <td>...</td>\n",
       "      <td>...</td>\n",
       "      <td>...</td>\n",
       "      <td>...</td>\n",
       "    </tr>\n",
       "    <tr>\n",
       "      <th>154</th>\n",
       "      <td>Smelt</td>\n",
       "      <td>12.2</td>\n",
       "      <td>11.5</td>\n",
       "      <td>12.2</td>\n",
       "      <td>13.4</td>\n",
       "      <td>2.0904</td>\n",
       "      <td>1.3936</td>\n",
       "    </tr>\n",
       "    <tr>\n",
       "      <th>155</th>\n",
       "      <td>Smelt</td>\n",
       "      <td>13.4</td>\n",
       "      <td>11.7</td>\n",
       "      <td>12.4</td>\n",
       "      <td>13.5</td>\n",
       "      <td>2.4300</td>\n",
       "      <td>1.2690</td>\n",
       "    </tr>\n",
       "    <tr>\n",
       "      <th>156</th>\n",
       "      <td>Smelt</td>\n",
       "      <td>12.2</td>\n",
       "      <td>12.1</td>\n",
       "      <td>13.0</td>\n",
       "      <td>13.8</td>\n",
       "      <td>2.2770</td>\n",
       "      <td>1.2558</td>\n",
       "    </tr>\n",
       "    <tr>\n",
       "      <th>157</th>\n",
       "      <td>Smelt</td>\n",
       "      <td>19.7</td>\n",
       "      <td>13.2</td>\n",
       "      <td>14.3</td>\n",
       "      <td>15.2</td>\n",
       "      <td>2.8728</td>\n",
       "      <td>2.0672</td>\n",
       "    </tr>\n",
       "    <tr>\n",
       "      <th>158</th>\n",
       "      <td>Smelt</td>\n",
       "      <td>19.9</td>\n",
       "      <td>13.8</td>\n",
       "      <td>15.0</td>\n",
       "      <td>16.2</td>\n",
       "      <td>2.9322</td>\n",
       "      <td>1.8792</td>\n",
       "    </tr>\n",
       "  </tbody>\n",
       "</table>\n",
       "<p>159 rows × 7 columns</p>\n",
       "</div>"
      ],
      "text/plain": [
       "    Species  Weight  Length1  Length2  Length3   Height   Width\n",
       "0     Bream   242.0     23.2     25.4     30.0  11.5200  4.0200\n",
       "1     Bream   290.0     24.0     26.3     31.2  12.4800  4.3056\n",
       "2     Bream   340.0     23.9     26.5     31.1  12.3778  4.6961\n",
       "3     Bream   363.0     26.3     29.0     33.5  12.7300  4.4555\n",
       "4     Bream   430.0     26.5     29.0     34.0  12.4440  5.1340\n",
       "..      ...     ...      ...      ...      ...      ...     ...\n",
       "154   Smelt    12.2     11.5     12.2     13.4   2.0904  1.3936\n",
       "155   Smelt    13.4     11.7     12.4     13.5   2.4300  1.2690\n",
       "156   Smelt    12.2     12.1     13.0     13.8   2.2770  1.2558\n",
       "157   Smelt    19.7     13.2     14.3     15.2   2.8728  2.0672\n",
       "158   Smelt    19.9     13.8     15.0     16.2   2.9322  1.8792\n",
       "\n",
       "[159 rows x 7 columns]"
      ]
     },
     "execution_count": 87,
     "metadata": {},
     "output_type": "execute_result"
    }
   ],
   "source": [
    "newdata"
   ]
  },
  {
   "cell_type": "code",
   "execution_count": 95,
   "id": "e247c5da",
   "metadata": {},
   "outputs": [],
   "source": [
    "newdata1 = pd.DataFrame(columns=['Weight'])\n",
    "newdata1['Weight'] = 242, 332,441, 232,133\n",
    "newdata1['Height'] = 11,12,12.4,11.9,11.4\n",
    "newdata1 = scaler.transform(newdata1)"
   ]
  },
  {
   "cell_type": "code",
   "execution_count": 96,
   "id": "06cf2311",
   "metadata": {},
   "outputs": [
    {
     "data": {
      "text/plain": [
       "array([4.1870588 , 4.59015986, 4.97718696, 4.26838964, 3.89981883])"
      ]
     },
     "execution_count": 96,
     "metadata": {},
     "output_type": "execute_result"
    }
   ],
   "source": [
    "\n",
    "reg2.predict(newdata1)"
   ]
  },
  {
   "cell_type": "markdown",
   "id": "a5ff16a3",
   "metadata": {},
   "source": [
    "#  Croping a table"
   ]
  },
  {
   "cell_type": "code",
   "execution_count": 97,
   "id": "b7ba05b3",
   "metadata": {},
   "outputs": [
    {
     "data": {
      "text/html": [
       "<div>\n",
       "<style scoped>\n",
       "    .dataframe tbody tr th:only-of-type {\n",
       "        vertical-align: middle;\n",
       "    }\n",
       "\n",
       "    .dataframe tbody tr th {\n",
       "        vertical-align: top;\n",
       "    }\n",
       "\n",
       "    .dataframe thead th {\n",
       "        text-align: right;\n",
       "    }\n",
       "</style>\n",
       "<table border=\"1\" class=\"dataframe\">\n",
       "  <thead>\n",
       "    <tr style=\"text-align: right;\">\n",
       "      <th></th>\n",
       "      <th>x</th>\n",
       "      <th>y</th>\n",
       "    </tr>\n",
       "  </thead>\n",
       "  <tbody>\n",
       "    <tr>\n",
       "      <th>0</th>\n",
       "      <td>108</td>\n",
       "      <td>392.5</td>\n",
       "    </tr>\n",
       "    <tr>\n",
       "      <th>1</th>\n",
       "      <td>19</td>\n",
       "      <td>46.2</td>\n",
       "    </tr>\n",
       "    <tr>\n",
       "      <th>2</th>\n",
       "      <td>13</td>\n",
       "      <td>15.7</td>\n",
       "    </tr>\n",
       "    <tr>\n",
       "      <th>3</th>\n",
       "      <td>124</td>\n",
       "      <td>422.2</td>\n",
       "    </tr>\n",
       "    <tr>\n",
       "      <th>4</th>\n",
       "      <td>40</td>\n",
       "      <td>119.4</td>\n",
       "    </tr>\n",
       "    <tr>\n",
       "      <th>...</th>\n",
       "      <td>...</td>\n",
       "      <td>...</td>\n",
       "    </tr>\n",
       "    <tr>\n",
       "      <th>58</th>\n",
       "      <td>9</td>\n",
       "      <td>87.4</td>\n",
       "    </tr>\n",
       "    <tr>\n",
       "      <th>59</th>\n",
       "      <td>31</td>\n",
       "      <td>209.8</td>\n",
       "    </tr>\n",
       "    <tr>\n",
       "      <th>60</th>\n",
       "      <td>14</td>\n",
       "      <td>95.5</td>\n",
       "    </tr>\n",
       "    <tr>\n",
       "      <th>61</th>\n",
       "      <td>53</td>\n",
       "      <td>244.6</td>\n",
       "    </tr>\n",
       "    <tr>\n",
       "      <th>62</th>\n",
       "      <td>26</td>\n",
       "      <td>187.5</td>\n",
       "    </tr>\n",
       "  </tbody>\n",
       "</table>\n",
       "<p>63 rows × 2 columns</p>\n",
       "</div>"
      ],
      "text/plain": [
       "      x      y\n",
       "0   108  392.5\n",
       "1    19   46.2\n",
       "2    13   15.7\n",
       "3   124  422.2\n",
       "4    40  119.4\n",
       "..  ...    ...\n",
       "58    9   87.4\n",
       "59   31  209.8\n",
       "60   14   95.5\n",
       "61   53  244.6\n",
       "62   26  187.5\n",
       "\n",
       "[63 rows x 2 columns]"
      ]
     },
     "execution_count": 97,
     "metadata": {},
     "output_type": "execute_result"
    }
   ],
   "source": [
    "data"
   ]
  },
  {
   "cell_type": "code",
   "execution_count": 107,
   "id": "a3a9360f",
   "metadata": {},
   "outputs": [
    {
     "ename": "TypeError",
     "evalue": "'(slice(None, None, None),      Weight   Height\n0     242.0  11.5200\n1     290.0  12.4800\n2     340.0  12.3778\n3     363.0  12.7300\n4     430.0  12.4440\n..      ...      ...\n154    12.2   2.0904\n155    13.4   2.4300\n156    12.2   2.2770\n157    19.7   2.8728\n158    19.9   2.9322\n\n[159 rows x 2 columns])' is an invalid key",
     "output_type": "error",
     "traceback": [
      "\u001b[1;31m---------------------------------------------------------------------------\u001b[0m",
      "\u001b[1;31mTypeError\u001b[0m                                 Traceback (most recent call last)",
      "\u001b[1;32m<ipython-input-107-50b6710f6c01>\u001b[0m in \u001b[0;36m<module>\u001b[1;34m\u001b[0m\n\u001b[1;32m----> 1\u001b[1;33m \u001b[0mdata1\u001b[0m \u001b[1;33m=\u001b[0m \u001b[0mdata\u001b[0m\u001b[1;33m[\u001b[0m\u001b[1;33m:\u001b[0m\u001b[1;33m,\u001b[0m\u001b[0mx\u001b[0m\u001b[1;33m]\u001b[0m\u001b[1;33m\u001b[0m\u001b[1;33m\u001b[0m\u001b[0m\n\u001b[0m",
      "\u001b[1;32m~\\anaconda2\\lib\\site-packages\\pandas\\core\\frame.py\u001b[0m in \u001b[0;36m__getitem__\u001b[1;34m(self, key)\u001b[0m\n\u001b[0;32m   3022\u001b[0m             \u001b[1;32mif\u001b[0m \u001b[0mself\u001b[0m\u001b[1;33m.\u001b[0m\u001b[0mcolumns\u001b[0m\u001b[1;33m.\u001b[0m\u001b[0mnlevels\u001b[0m \u001b[1;33m>\u001b[0m \u001b[1;36m1\u001b[0m\u001b[1;33m:\u001b[0m\u001b[1;33m\u001b[0m\u001b[1;33m\u001b[0m\u001b[0m\n\u001b[0;32m   3023\u001b[0m                 \u001b[1;32mreturn\u001b[0m \u001b[0mself\u001b[0m\u001b[1;33m.\u001b[0m\u001b[0m_getitem_multilevel\u001b[0m\u001b[1;33m(\u001b[0m\u001b[0mkey\u001b[0m\u001b[1;33m)\u001b[0m\u001b[1;33m\u001b[0m\u001b[1;33m\u001b[0m\u001b[0m\n\u001b[1;32m-> 3024\u001b[1;33m             \u001b[0mindexer\u001b[0m \u001b[1;33m=\u001b[0m \u001b[0mself\u001b[0m\u001b[1;33m.\u001b[0m\u001b[0mcolumns\u001b[0m\u001b[1;33m.\u001b[0m\u001b[0mget_loc\u001b[0m\u001b[1;33m(\u001b[0m\u001b[0mkey\u001b[0m\u001b[1;33m)\u001b[0m\u001b[1;33m\u001b[0m\u001b[1;33m\u001b[0m\u001b[0m\n\u001b[0m\u001b[0;32m   3025\u001b[0m             \u001b[1;32mif\u001b[0m \u001b[0mis_integer\u001b[0m\u001b[1;33m(\u001b[0m\u001b[0mindexer\u001b[0m\u001b[1;33m)\u001b[0m\u001b[1;33m:\u001b[0m\u001b[1;33m\u001b[0m\u001b[1;33m\u001b[0m\u001b[0m\n\u001b[0;32m   3026\u001b[0m                 \u001b[0mindexer\u001b[0m \u001b[1;33m=\u001b[0m \u001b[1;33m[\u001b[0m\u001b[0mindexer\u001b[0m\u001b[1;33m]\u001b[0m\u001b[1;33m\u001b[0m\u001b[1;33m\u001b[0m\u001b[0m\n",
      "\u001b[1;32m~\\anaconda2\\lib\\site-packages\\pandas\\core\\indexes\\base.py\u001b[0m in \u001b[0;36mget_loc\u001b[1;34m(self, key, method, tolerance)\u001b[0m\n\u001b[0;32m   3078\u001b[0m             \u001b[0mcasted_key\u001b[0m \u001b[1;33m=\u001b[0m \u001b[0mself\u001b[0m\u001b[1;33m.\u001b[0m\u001b[0m_maybe_cast_indexer\u001b[0m\u001b[1;33m(\u001b[0m\u001b[0mkey\u001b[0m\u001b[1;33m)\u001b[0m\u001b[1;33m\u001b[0m\u001b[1;33m\u001b[0m\u001b[0m\n\u001b[0;32m   3079\u001b[0m             \u001b[1;32mtry\u001b[0m\u001b[1;33m:\u001b[0m\u001b[1;33m\u001b[0m\u001b[1;33m\u001b[0m\u001b[0m\n\u001b[1;32m-> 3080\u001b[1;33m                 \u001b[1;32mreturn\u001b[0m \u001b[0mself\u001b[0m\u001b[1;33m.\u001b[0m\u001b[0m_engine\u001b[0m\u001b[1;33m.\u001b[0m\u001b[0mget_loc\u001b[0m\u001b[1;33m(\u001b[0m\u001b[0mcasted_key\u001b[0m\u001b[1;33m)\u001b[0m\u001b[1;33m\u001b[0m\u001b[1;33m\u001b[0m\u001b[0m\n\u001b[0m\u001b[0;32m   3081\u001b[0m             \u001b[1;32mexcept\u001b[0m \u001b[0mKeyError\u001b[0m \u001b[1;32mas\u001b[0m \u001b[0merr\u001b[0m\u001b[1;33m:\u001b[0m\u001b[1;33m\u001b[0m\u001b[1;33m\u001b[0m\u001b[0m\n\u001b[0;32m   3082\u001b[0m                 \u001b[1;32mraise\u001b[0m \u001b[0mKeyError\u001b[0m\u001b[1;33m(\u001b[0m\u001b[0mkey\u001b[0m\u001b[1;33m)\u001b[0m \u001b[1;32mfrom\u001b[0m \u001b[0merr\u001b[0m\u001b[1;33m\u001b[0m\u001b[1;33m\u001b[0m\u001b[0m\n",
      "\u001b[1;32mpandas\\_libs\\index.pyx\u001b[0m in \u001b[0;36mpandas._libs.index.IndexEngine.get_loc\u001b[1;34m()\u001b[0m\n",
      "\u001b[1;32mpandas\\_libs\\index.pyx\u001b[0m in \u001b[0;36mpandas._libs.index.IndexEngine.get_loc\u001b[1;34m()\u001b[0m\n",
      "\u001b[1;31mTypeError\u001b[0m: '(slice(None, None, None),      Weight   Height\n0     242.0  11.5200\n1     290.0  12.4800\n2     340.0  12.3778\n3     363.0  12.7300\n4     430.0  12.4440\n..      ...      ...\n154    12.2   2.0904\n155    13.4   2.4300\n156    12.2   2.2770\n157    19.7   2.8728\n158    19.9   2.9322\n\n[159 rows x 2 columns])' is an invalid key"
     ]
    }
   ],
   "source": [
    "data1 = data[:,x]"
   ]
  },
  {
   "cell_type": "code",
   "execution_count": 105,
   "id": "fb52585d",
   "metadata": {},
   "outputs": [
    {
     "data": {
      "text/html": [
       "<div>\n",
       "<style scoped>\n",
       "    .dataframe tbody tr th:only-of-type {\n",
       "        vertical-align: middle;\n",
       "    }\n",
       "\n",
       "    .dataframe tbody tr th {\n",
       "        vertical-align: top;\n",
       "    }\n",
       "\n",
       "    .dataframe thead th {\n",
       "        text-align: right;\n",
       "    }\n",
       "</style>\n",
       "<table border=\"1\" class=\"dataframe\">\n",
       "  <thead>\n",
       "    <tr style=\"text-align: right;\">\n",
       "      <th></th>\n",
       "      <th>x</th>\n",
       "      <th>y</th>\n",
       "    </tr>\n",
       "  </thead>\n",
       "  <tbody>\n",
       "    <tr>\n",
       "      <th>0</th>\n",
       "      <td>NaN</td>\n",
       "      <td>NaN</td>\n",
       "    </tr>\n",
       "    <tr>\n",
       "      <th>1</th>\n",
       "      <td>NaN</td>\n",
       "      <td>NaN</td>\n",
       "    </tr>\n",
       "    <tr>\n",
       "      <th>2</th>\n",
       "      <td>NaN</td>\n",
       "      <td>NaN</td>\n",
       "    </tr>\n",
       "    <tr>\n",
       "      <th>3</th>\n",
       "      <td>NaN</td>\n",
       "      <td>NaN</td>\n",
       "    </tr>\n",
       "    <tr>\n",
       "      <th>4</th>\n",
       "      <td>NaN</td>\n",
       "      <td>NaN</td>\n",
       "    </tr>\n",
       "    <tr>\n",
       "      <th>...</th>\n",
       "      <td>...</td>\n",
       "      <td>...</td>\n",
       "    </tr>\n",
       "    <tr>\n",
       "      <th>58</th>\n",
       "      <td>NaN</td>\n",
       "      <td>NaN</td>\n",
       "    </tr>\n",
       "    <tr>\n",
       "      <th>59</th>\n",
       "      <td>NaN</td>\n",
       "      <td>NaN</td>\n",
       "    </tr>\n",
       "    <tr>\n",
       "      <th>60</th>\n",
       "      <td>NaN</td>\n",
       "      <td>NaN</td>\n",
       "    </tr>\n",
       "    <tr>\n",
       "      <th>61</th>\n",
       "      <td>NaN</td>\n",
       "      <td>NaN</td>\n",
       "    </tr>\n",
       "    <tr>\n",
       "      <th>62</th>\n",
       "      <td>NaN</td>\n",
       "      <td>NaN</td>\n",
       "    </tr>\n",
       "  </tbody>\n",
       "</table>\n",
       "<p>63 rows × 2 columns</p>\n",
       "</div>"
      ],
      "text/plain": [
       "     x   y\n",
       "0  NaN NaN\n",
       "1  NaN NaN\n",
       "2  NaN NaN\n",
       "3  NaN NaN\n",
       "4  NaN NaN\n",
       "..  ..  ..\n",
       "58 NaN NaN\n",
       "59 NaN NaN\n",
       "60 NaN NaN\n",
       "61 NaN NaN\n",
       "62 NaN NaN\n",
       "\n",
       "[63 rows x 2 columns]"
      ]
     },
     "execution_count": 105,
     "metadata": {},
     "output_type": "execute_result"
    }
   ],
   "source": [
    "data1"
   ]
  },
  {
   "cell_type": "code",
   "execution_count": null,
   "id": "1d2b3cc1",
   "metadata": {},
   "outputs": [],
   "source": []
  }
 ],
 "metadata": {
  "kernelspec": {
   "display_name": "Python 3",
   "language": "python",
   "name": "python3"
  },
  "language_info": {
   "codemirror_mode": {
    "name": "ipython",
    "version": 3
   },
   "file_extension": ".py",
   "mimetype": "text/x-python",
   "name": "python",
   "nbconvert_exporter": "python",
   "pygments_lexer": "ipython3",
   "version": "3.8.8"
  }
 },
 "nbformat": 4,
 "nbformat_minor": 5
}
