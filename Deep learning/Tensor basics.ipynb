{
 "cells": [
  {
   "cell_type": "code",
   "execution_count": 1,
   "id": "a9062c67",
   "metadata": {},
   "outputs": [],
   "source": [
    "import tensorflow as tf"
   ]
  },
  {
   "cell_type": "markdown",
   "id": "48380f77",
   "metadata": {},
   "source": [
    "#  Initialization"
   ]
  },
  {
   "cell_type": "code",
   "execution_count": 2,
   "id": "6e6f2745",
   "metadata": {},
   "outputs": [
    {
     "data": {
      "text/plain": [
       "<tf.Tensor: shape=(1, 1), dtype=int32, numpy=array([[4]])>"
      ]
     },
     "execution_count": 2,
     "metadata": {},
     "output_type": "execute_result"
    }
   ],
   "source": [
    "x = tf.constant(4,shape=(1,1)) # Making a scalar tensor\n",
    "x"
   ]
  },
  {
   "cell_type": "code",
   "execution_count": 3,
   "id": "e4764e86",
   "metadata": {},
   "outputs": [
    {
     "data": {
      "text/plain": [
       "<tf.Tensor: shape=(2, 3), dtype=int32, numpy=\n",
       "array([[1, 2, 3],\n",
       "       [2, 3, 4]])>"
      ]
     },
     "execution_count": 3,
     "metadata": {},
     "output_type": "execute_result"
    }
   ],
   "source": [
    "x = tf.constant([[1,2,3],[2,3,4]]) #Making a 2 x 3 matrix\n",
    "x"
   ]
  },
  {
   "cell_type": "code",
   "execution_count": 4,
   "id": "841d1ad5",
   "metadata": {},
   "outputs": [
    {
     "data": {
      "text/plain": [
       "<tf.Tensor: shape=(4,), dtype=float32, numpy=array([1., 1., 1., 1.], dtype=float32)>"
      ]
     },
     "execution_count": 4,
     "metadata": {},
     "output_type": "execute_result"
    }
   ],
   "source": [
    "x = tf.ones(4,1)\n",
    "x"
   ]
  },
  {
   "cell_type": "code",
   "execution_count": 5,
   "id": "d05215c8",
   "metadata": {},
   "outputs": [
    {
     "data": {
      "text/plain": [
       "<tf.Tensor: shape=(3, 3), dtype=float32, numpy=\n",
       "array([[1., 0., 0.],\n",
       "       [0., 1., 0.],\n",
       "       [0., 0., 1.]], dtype=float32)>"
      ]
     },
     "execution_count": 5,
     "metadata": {},
     "output_type": "execute_result"
    }
   ],
   "source": [
    "x = tf.eye(3,3) #Identity element\n",
    "x"
   ]
  },
  {
   "cell_type": "markdown",
   "id": "1f135c65",
   "metadata": {},
   "source": [
    "##  You can make random and uniform distribution"
   ]
  },
  {
   "cell_type": "code",
   "execution_count": 6,
   "id": "9753d9e7",
   "metadata": {},
   "outputs": [
    {
     "data": {
      "text/plain": [
       "<tf.Tensor: shape=(3, 3), dtype=float32, numpy=\n",
       "array([[ 2.4222562e+00,  7.7664631e-04, -4.3343338e-01],\n",
       "       [-6.2284887e-01,  2.2181220e+00,  1.7153214e+00],\n",
       "       [-1.1220124e+00, -4.2018986e-01, -8.6669970e-01]], dtype=float32)>"
      ]
     },
     "execution_count": 6,
     "metadata": {},
     "output_type": "execute_result"
    }
   ],
   "source": [
    "x = tf.random.normal((3,3),mean=0, stddev=1)\n",
    "x"
   ]
  },
  {
   "cell_type": "code",
   "execution_count": 7,
   "id": "39cd3d55",
   "metadata": {},
   "outputs": [
    {
     "data": {
      "text/plain": [
       "<tf.Tensor: shape=(3, 3), dtype=float32, numpy=\n",
       "array([[-4.238905 , -5.8654284, 12.696602 ],\n",
       "       [ 8.920599 , 11.788704 , 18.14305  ],\n",
       "       [-3.6127272,  3.9428482, -1.3383636]], dtype=float32)>"
      ]
     },
     "execution_count": 7,
     "metadata": {},
     "output_type": "execute_result"
    }
   ],
   "source": [
    "x = tf.random.uniform((3,3),minval=-10,maxval=20)\n",
    "x"
   ]
  },
  {
   "cell_type": "markdown",
   "id": "bd9205f7",
   "metadata": {},
   "source": [
    "##  You can also do ranges just like python"
   ]
  },
  {
   "cell_type": "code",
   "execution_count": 8,
   "id": "34f75b93",
   "metadata": {},
   "outputs": [
    {
     "data": {
      "text/plain": [
       "<tf.Tensor: shape=(49,), dtype=int32, numpy=\n",
       "array([ 2,  4,  6,  8, 10, 12, 14, 16, 18, 20, 22, 24, 26, 28, 30, 32, 34,\n",
       "       36, 38, 40, 42, 44, 46, 48, 50, 52, 54, 56, 58, 60, 62, 64, 66, 68,\n",
       "       70, 72, 74, 76, 78, 80, 82, 84, 86, 88, 90, 92, 94, 96, 98])>"
      ]
     },
     "execution_count": 8,
     "metadata": {},
     "output_type": "execute_result"
    }
   ],
   "source": [
    "x = tf.range(start=2, limit=100, delta=2)\n",
    "x"
   ]
  },
  {
   "cell_type": "markdown",
   "id": "b71d9fb0",
   "metadata": {},
   "source": [
    "##  You can also use cast to switch between dtypes"
   ]
  },
  {
   "cell_type": "code",
   "execution_count": 9,
   "id": "d9617bf2",
   "metadata": {},
   "outputs": [
    {
     "data": {
      "text/plain": [
       "<tf.Tensor: shape=(49,), dtype=float32, numpy=\n",
       "array([ 2.,  4.,  6.,  8., 10., 12., 14., 16., 18., 20., 22., 24., 26.,\n",
       "       28., 30., 32., 34., 36., 38., 40., 42., 44., 46., 48., 50., 52.,\n",
       "       54., 56., 58., 60., 62., 64., 66., 68., 70., 72., 74., 76., 78.,\n",
       "       80., 82., 84., 86., 88., 90., 92., 94., 96., 98.], dtype=float32)>"
      ]
     },
     "execution_count": 9,
     "metadata": {},
     "output_type": "execute_result"
    }
   ],
   "source": [
    "x = tf.cast(x,tf.float32)\n",
    "x"
   ]
  },
  {
   "cell_type": "markdown",
   "id": "451ca61c",
   "metadata": {},
   "source": [
    "# Mathematical operations "
   ]
  },
  {
   "cell_type": "code",
   "execution_count": 10,
   "id": "9cc147d7",
   "metadata": {},
   "outputs": [],
   "source": [
    "x= tf.constant([1,2,3])\n",
    "y = tf.constant([9,8,7])\n",
    "\n"
   ]
  },
  {
   "cell_type": "code",
   "execution_count": 11,
   "id": "fb17f38a",
   "metadata": {},
   "outputs": [],
   "source": [
    "z=x+y\n",
    "z=x-y\n",
    "z=x/y\n",
    "z =x*y\n",
    "z = tf.tensordot(x,y,axes=1) # This is for the dot product\n",
    "z = x**3 # This is for elementwise exponentiation\n"
   ]
  },
  {
   "cell_type": "markdown",
   "id": "b006f66f",
   "metadata": {},
   "source": [
    "###  Matrix multiplication"
   ]
  },
  {
   "cell_type": "code",
   "execution_count": 12,
   "id": "921e6ba4",
   "metadata": {},
   "outputs": [
    {
     "data": {
      "text/plain": [
       "<tf.Tensor: shape=(2, 4), dtype=float32, numpy=\n",
       "array([[-0.06047612, -0.48364234,  0.8176762 , -0.64649135],\n",
       "       [-1.0854893 ,  1.3985375 , -0.45867157,  1.4390795 ]],\n",
       "      dtype=float32)>"
      ]
     },
     "execution_count": 12,
     "metadata": {},
     "output_type": "execute_result"
    }
   ],
   "source": [
    "x = tf.random.normal((2,3))\n",
    "y = tf.random.normal((3,4))\n",
    "\n",
    "z =x@y  # tf.matmul(x,y) can also do it\n",
    "z"
   ]
  },
  {
   "cell_type": "markdown",
   "id": "328fcc5a",
   "metadata": {},
   "source": [
    "##  Indexing of tensors"
   ]
  },
  {
   "cell_type": "code",
   "execution_count": 13,
   "id": "015bc985",
   "metadata": {},
   "outputs": [],
   "source": [
    "x = tf.constant([1,3,4,2,5,6,4,3,4,2,4,6,8,7,4,0,3,2,1,9])"
   ]
  },
  {
   "cell_type": "code",
   "execution_count": 14,
   "id": "fe07b31c",
   "metadata": {},
   "outputs": [
    {
     "data": {
      "text/plain": [
       "<tf.Tensor: shape=(10,), dtype=int32, numpy=array([1, 4, 5, 4, 4, 4, 8, 4, 3, 1])>"
      ]
     },
     "execution_count": 14,
     "metadata": {},
     "output_type": "execute_result"
    }
   ],
   "source": [
    "x[:] # prints all\n",
    "x[1:] # Prints all but the fisrt element\n",
    "x[2:5] # Prints from index 2 to 5 and crops the rest\n",
    "x[::-1] # Prints in the reverse other\n",
    "x[::2] # Prints all but skips one element after printing one\n"
   ]
  },
  {
   "cell_type": "markdown",
   "id": "5cd7a9c3",
   "metadata": {},
   "source": [
    "###  Getting specific indexes"
   ]
  },
  {
   "cell_type": "code",
   "execution_count": 15,
   "id": "daa44dee",
   "metadata": {},
   "outputs": [],
   "source": [
    "indexes = tf.constant([2,4,5,3])\n",
    "\n",
    "x_index = tf.gather(x, indexes)"
   ]
  },
  {
   "cell_type": "code",
   "execution_count": 16,
   "id": "522d3656",
   "metadata": {},
   "outputs": [
    {
     "data": {
      "text/plain": [
       "<tf.Tensor: shape=(4,), dtype=int32, numpy=array([4, 5, 6, 2])>"
      ]
     },
     "execution_count": 16,
     "metadata": {},
     "output_type": "execute_result"
    }
   ],
   "source": [
    "x_index"
   ]
  },
  {
   "cell_type": "markdown",
   "id": "6a4c9bdd",
   "metadata": {},
   "source": [
    "###  Indexing for matrix"
   ]
  },
  {
   "cell_type": "code",
   "execution_count": 17,
   "id": "9076d877",
   "metadata": {},
   "outputs": [],
   "source": [
    "x = tf.constant([[1,2,3],\n",
    "                [2,3,4],\n",
    "                [3,4,5],\n",
    "                [4,5,6],\n",
    "                [5,6,7]])"
   ]
  },
  {
   "cell_type": "code",
   "execution_count": 18,
   "id": "5b804978",
   "metadata": {},
   "outputs": [
    {
     "data": {
      "text/plain": [
       "<tf.Tensor: shape=(3,), dtype=int32, numpy=array([1, 2, 3])>"
      ]
     },
     "execution_count": 18,
     "metadata": {},
     "output_type": "execute_result"
    }
   ],
   "source": [
    "x[0,:] #prints only the first row"
   ]
  },
  {
   "cell_type": "code",
   "execution_count": 19,
   "id": "d8d8d00d",
   "metadata": {},
   "outputs": [
    {
     "data": {
      "text/plain": [
       "<tf.Tensor: shape=(4, 3), dtype=int32, numpy=\n",
       "array([[1, 2, 3],\n",
       "       [2, 3, 4],\n",
       "       [3, 4, 5],\n",
       "       [4, 5, 6]])>"
      ]
     },
     "execution_count": 19,
     "metadata": {},
     "output_type": "execute_result"
    }
   ],
   "source": [
    "x[0:4] # Print from teh first to the specified number"
   ]
  },
  {
   "cell_type": "markdown",
   "id": "bc5ead1f",
   "metadata": {},
   "source": [
    "#  Reshaping"
   ]
  },
  {
   "cell_type": "code",
   "execution_count": 20,
   "id": "2f22c25f",
   "metadata": {},
   "outputs": [],
   "source": [
    "x = tf.range(9)"
   ]
  },
  {
   "cell_type": "code",
   "execution_count": 21,
   "id": "6ddd9050",
   "metadata": {},
   "outputs": [
    {
     "data": {
      "text/plain": [
       "<tf.Tensor: shape=(3, 3), dtype=int32, numpy=\n",
       "array([[0, 1, 2],\n",
       "       [3, 4, 5],\n",
       "       [6, 7, 8]])>"
      ]
     },
     "execution_count": 21,
     "metadata": {},
     "output_type": "execute_result"
    }
   ],
   "source": [
    "x = tf.reshape(x,(3,3))\n",
    "x"
   ]
  },
  {
   "cell_type": "markdown",
   "id": "4429a368",
   "metadata": {},
   "source": [
    "### Transposing"
   ]
  },
  {
   "cell_type": "code",
   "execution_count": 22,
   "id": "b13360ff",
   "metadata": {},
   "outputs": [
    {
     "data": {
      "text/plain": [
       "<tf.Tensor: shape=(3, 3), dtype=int32, numpy=\n",
       "array([[0, 3, 6],\n",
       "       [1, 4, 7],\n",
       "       [2, 5, 8]])>"
      ]
     },
     "execution_count": 22,
     "metadata": {},
     "output_type": "execute_result"
    }
   ],
   "source": [
    "x = tf.transpose(x, perm=(1,0))\n",
    "x"
   ]
  },
  {
   "cell_type": "code",
   "execution_count": null,
   "id": "18eb494b",
   "metadata": {},
   "outputs": [],
   "source": []
  }
 ],
 "metadata": {
  "kernelspec": {
   "display_name": "Python 3",
   "language": "python",
   "name": "python3"
  },
  "language_info": {
   "codemirror_mode": {
    "name": "ipython",
    "version": 3
   },
   "file_extension": ".py",
   "mimetype": "text/x-python",
   "name": "python",
   "nbconvert_exporter": "python",
   "pygments_lexer": "ipython3",
   "version": "3.8.8"
  }
 },
 "nbformat": 4,
 "nbformat_minor": 5
}
