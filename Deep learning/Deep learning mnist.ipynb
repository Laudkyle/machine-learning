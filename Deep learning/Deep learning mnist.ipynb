{
 "cells": [
  {
   "cell_type": "code",
   "execution_count": 1,
   "id": "9ea719b3",
   "metadata": {},
   "outputs": [
    {
     "name": "stderr",
     "output_type": "stream",
     "text": [
      "C:\\Users\\Kyle\\anaconda2\\envs\\py3-tf2.0\\lib\\site-packages\\tqdm\\auto.py:22: TqdmWarning: IProgress not found. Please update jupyter and ipywidgets. See https://ipywidgets.readthedocs.io/en/stable/user_install.html\n",
      "  from .autonotebook import tqdm as notebook_tqdm\n"
     ]
    }
   ],
   "source": [
    "import numpy as np\n",
    "import tensorflow as tf\n",
    "import tensorflow_datasets as tfds"
   ]
  },
  {
   "cell_type": "markdown",
   "id": "bf042f3a",
   "metadata": {},
   "source": [
    "# Loading the dataset "
   ]
  },
  {
   "cell_type": "code",
   "execution_count": 2,
   "id": "853294f1",
   "metadata": {},
   "outputs": [],
   "source": [
    "mnist_dataset,mnist_info = tfds.load(name='mnist', with_info=True, as_supervised=True)"
   ]
  },
  {
   "cell_type": "code",
   "execution_count": 3,
   "id": "076778fd",
   "metadata": {},
   "outputs": [],
   "source": [
    "#Seperating the data\n",
    "mnist_train = mnist_dataset['train']\n",
    "mnist_test = mnist_dataset['test']\n",
    "\n",
    "\n",
    "#Taking 10% as validation data\n",
    "num_validation = 0.1 * mnist_info.splits['train'].num_examples\n",
    "num_validation = tf.cast(num_validation, tf.int64)\n",
    "\n",
    "#Counting the number of  testing dataset\n",
    "num_test = mnist_info.splits['test'].num_examples\n",
    "num_test = tf.cast(num_test,tf.int64)\n",
    "\n",
    "#scaleing the images\n",
    "def scale(image,label):\n",
    "    image = tf.cast(image, tf.float32)\n",
    "    image /= 255.\n",
    "    return image, label\n",
    "\n",
    "scaled_train_and_validation_data = mnist_train.map(scale)\n",
    "test_data = mnist_test.map(scale)"
   ]
  },
  {
   "cell_type": "markdown",
   "id": "84070a93",
   "metadata": {},
   "source": [
    "##  Reshuffling and batching"
   ]
  },
  {
   "cell_type": "code",
   "execution_count": 4,
   "id": "74ef5ac2",
   "metadata": {},
   "outputs": [],
   "source": [
    "BUFFER_SIZE = 10000\n",
    "\n",
    "reshuffled_scaled_train_and_validation_data = scaled_train_and_validation_data.shuffle(BUFFER_SIZE)"
   ]
  },
  {
   "cell_type": "markdown",
   "id": "ab1b61ab",
   "metadata": {},
   "source": [
    "##  Extracting the validation data"
   ]
  },
  {
   "cell_type": "code",
   "execution_count": 5,
   "id": "12dfa1fa",
   "metadata": {},
   "outputs": [],
   "source": [
    "validation_data = reshuffled_scaled_train_and_validation_data.take(num_validation)"
   ]
  },
  {
   "cell_type": "markdown",
   "id": "0f8f770c",
   "metadata": {},
   "source": [
    "## Extracting the training data"
   ]
  },
  {
   "cell_type": "code",
   "execution_count": 6,
   "id": "f96cea60",
   "metadata": {},
   "outputs": [],
   "source": [
    "training_data = reshuffled_scaled_train_and_validation_data.skip(num_validation)"
   ]
  },
  {
   "cell_type": "code",
   "execution_count": 7,
   "id": "eda7c0d4",
   "metadata": {},
   "outputs": [],
   "source": [
    "BATCH_SIZE =100\n",
    "\n",
    "training_data = training_data.batch(BATCH_SIZE)"
   ]
  },
  {
   "cell_type": "code",
   "execution_count": 8,
   "id": "a5d69895",
   "metadata": {},
   "outputs": [],
   "source": [
    "validation_data = validation_data.batch(num_validation)\n",
    "test_data = test_data.batch(num_test)\n",
    "\n",
    "validation_input, validation_targets = next(iter(validation_data))"
   ]
  },
  {
   "cell_type": "markdown",
   "id": "a667ad95",
   "metadata": {},
   "source": [
    "# The Model"
   ]
  },
  {
   "cell_type": "code",
   "execution_count": 9,
   "id": "8e987bbb",
   "metadata": {},
   "outputs": [],
   "source": [
    "inputs_size = 784\n",
    "outputs_size =10\n",
    "hidden_layers_size =150\n",
    "\n",
    "model = tf.keras.Sequential([tf.keras.layers.Flatten(input_shape = (28,28,1)),\n",
    "                             tf.keras.layers.Dense(hidden_layers_size,activation=\"relu\"),\n",
    "                             tf.keras.layers.Dense(hidden_layers_size,activation=\"relu\"),\n",
    "                             tf.keras.layers.Dense(outputs_size, activation = 'softmax')\n",
    "])"
   ]
  },
  {
   "cell_type": "markdown",
   "id": "1218a990",
   "metadata": {},
   "source": [
    "##  Optimization"
   ]
  },
  {
   "cell_type": "code",
   "execution_count": 10,
   "id": "19b2f9ab",
   "metadata": {},
   "outputs": [],
   "source": [
    "model.compile(optimizer='adam', loss='sparse_categorical_crossentropy', metrics=['accuracy'])"
   ]
  },
  {
   "cell_type": "markdown",
   "id": "74579dce",
   "metadata": {},
   "source": [
    "##  Training"
   ]
  },
  {
   "cell_type": "code",
   "execution_count": 11,
   "id": "47132651",
   "metadata": {},
   "outputs": [
    {
     "name": "stdout",
     "output_type": "stream",
     "text": [
      "Epoch 1/5\n",
      "540/540 - 4s - loss: 0.2998 - accuracy: 0.9139 - val_loss: 0.1546 - val_accuracy: 0.9573\n",
      "Epoch 2/5\n",
      "540/540 - 4s - loss: 0.1184 - accuracy: 0.9644 - val_loss: 0.0934 - val_accuracy: 0.9733\n",
      "Epoch 3/5\n",
      "540/540 - 4s - loss: 0.0803 - accuracy: 0.9752 - val_loss: 0.0710 - val_accuracy: 0.9788\n",
      "Epoch 4/5\n",
      "540/540 - 4s - loss: 0.0605 - accuracy: 0.9816 - val_loss: 0.0652 - val_accuracy: 0.9795\n",
      "Epoch 5/5\n",
      "540/540 - 3s - loss: 0.0495 - accuracy: 0.9846 - val_loss: 0.0511 - val_accuracy: 0.9842\n"
     ]
    },
    {
     "data": {
      "text/plain": [
       "<tensorflow.python.keras.callbacks.History at 0x22a179ebeb0>"
      ]
     },
     "execution_count": 11,
     "metadata": {},
     "output_type": "execute_result"
    }
   ],
   "source": [
    "NUM_EPOCH = 5\n",
    "model.fit(training_data, epochs=NUM_EPOCH, validation_data=(validation_input,validation_targets), verbose = 2)"
   ]
  },
  {
   "cell_type": "markdown",
   "id": "24e46801",
   "metadata": {},
   "source": [
    "##  Testing the model"
   ]
  },
  {
   "cell_type": "code",
   "execution_count": 12,
   "id": "afefcd8d",
   "metadata": {},
   "outputs": [
    {
     "name": "stdout",
     "output_type": "stream",
     "text": [
      "1/1 [==============================] - 0s 15ms/step - loss: 0.0724 - accuracy: 0.9776\n"
     ]
    }
   ],
   "source": [
    "test_loss, test_accuracy = model.evaluate(test_data)"
   ]
  },
  {
   "cell_type": "code",
   "execution_count": null,
   "id": "62384a2b",
   "metadata": {},
   "outputs": [],
   "source": []
  }
 ],
 "metadata": {
  "kernelspec": {
   "display_name": "Python 3 (ipykernel)",
   "language": "python",
   "name": "python3"
  },
  "language_info": {
   "codemirror_mode": {
    "name": "ipython",
    "version": 3
   },
   "file_extension": ".py",
   "mimetype": "text/x-python",
   "name": "python",
   "nbconvert_exporter": "python",
   "pygments_lexer": "ipython3",
   "version": "3.8.13"
  }
 },
 "nbformat": 4,
 "nbformat_minor": 5
}
